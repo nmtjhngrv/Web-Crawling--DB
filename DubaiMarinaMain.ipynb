from database import Database
from bs4 import BeautifulSoup
import requests, re, json

# initiate database instance
db = Database()
# create tables if not exists
db.create_tables()


BASE_URL = "https://www.propertyfinder.ae"

page = requests.get("https://www.propertyfinder.ae/en/search?c=1&l=50&ob=mr&page=2&t=1")
content = page.content
soup = BeautifulSoup(content, 'html.parser')

pagination = soup.find("div",{"class":"pagination_links"}).findAll("a",{"class":"pagination_link"})

index = 0
lastIndex = 0;

while int(pagination[len(pagination) - 1].text) != lastIndex:

    pageIndex = 0;


    for page in pagination:
        pageURL = BASE_URL + page['href']

        pageIndex += 1;
        if int(page.text) > lastIndex:

            print ("Page: {} - LastIndex : {}".format(page.text, lastIndex))
            propertyPage = requests.get(pageURL)
            pageSoup = BeautifulSoup(propertyPage.content, 'html.parser')


            for item in pageSoup.findAll("div",{"class":"cardlist_item"}):
                index += 1;
                url = BASE_URL + item.find("a")['href']
                price = item.find("span",{"class":"card_pricevalue"}).get_text()
                title = item.find("h2",{"class":"card_title"}).get_text()
                location = item.find("p",{"class":"card_location"}).get_text()
                print("Count: {}\nURL: {}\nPrice: {}\nTitle: {}\nLocation: {}\n".format(index,url, price, title, location))

                data = db.get_listing_by_url(url=url)
                if data:
                    db.add_price(listing_id=data[0], price = int(price.replace(",","")))
                else:
                    id = db.add_listing(title, url, location)
                    db.add_price(listing_id = id, price = int(price.replace(",","")))

            print("PageIndex: {}".format(pageIndex))
            if pageIndex == len(pagination):
                lastIndex = int(page.text)
                pagination = pageSoup.find("div",{"class":"pagination_links"}).findAll("a",{"class":"pagination_link"})
        
db.close()
